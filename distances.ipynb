{
 "metadata": {
  "language_info": {
   "codemirror_mode": {
    "name": "ipython",
    "version": 3
   },
   "file_extension": ".py",
   "mimetype": "text/x-python",
   "name": "python",
   "nbconvert_exporter": "python",
   "pygments_lexer": "ipython3",
   "version": "3.8.3-final"
  },
  "orig_nbformat": 2,
  "kernelspec": {
   "name": "python3",
   "display_name": "Python 3"
  }
 },
 "nbformat": 4,
 "nbformat_minor": 2,
 "cells": [
  {
   "source": [
    "# Calculate distances between stations"
   ],
   "cell_type": "code",
   "metadata": {},
   "execution_count": null,
   "outputs": []
  },
  {
   "cell_type": "code",
   "execution_count": 5,
   "metadata": {},
   "outputs": [
    {
     "output_type": "stream",
     "name": "stdout",
     "text": [
      "Start  31113\nEnd  31113  Distance  0.0\nEnd  31104  Distance  0.16657804882139\nEnd  31296  Distance  0.28262553005344004\nEnd  31114  Distance  0.17130644208118234\nEnd  31116  Distance  0.2594904286821863\nEnd  31110  Distance  0.3671410187033171\nStart  31104\nEnd  31113  Distance  0.16657804882139\nEnd  31104  Distance  0.0\nEnd  31296  Distance  0.12543759736837612\nEnd  31114  Distance  0.2893906227922993\nEnd  31116  Distance  0.37178561068473576\nEnd  31110  Distance  0.5307651157878226\nStart  31296\nEnd  31113  Distance  0.28262553005344004\nEnd  31104  Distance  0.12543759736837612\nEnd  31296  Distance  0.0\nEnd  31114  Distance  0.36698332291617497\nEnd  31116  Distance  0.4369412415745245\nEnd  31110  Distance  0.633871845573187\nStart  31114\nEnd  31113  Distance  0.17130644208118234\nEnd  31104  Distance  0.2893906227922993\nEnd  31296  Distance  0.36698332291617497\nEnd  31114  Distance  0.0\nEnd  31116  Distance  0.08852041001126493\nEnd  31110  Distance  0.2860893134629938\nStart  31116\nEnd  31113  Distance  0.2594904286821863\nEnd  31104  Distance  0.37178561068473576\nEnd  31296  Distance  0.4369412415745245\nEnd  31114  Distance  0.08852041001126493\nEnd  31116  Distance  0.0\nEnd  31110  Distance  0.2688668848420977\nStart  31110\nEnd  31113  Distance  0.3671410187033171\nEnd  31104  Distance  0.5307651157878226\nEnd  31296  Distance  0.633871845573187\nEnd  31114  Distance  0.2860893134629938\nEnd  31116  Distance  0.2688668848420977\nEnd  31110  Distance  0.0\n"
     ]
    }
   ],
   "source": [
    "# from internet\n",
    "from math import radians, cos, sin, asin, sqrt\n",
    "def haversine(lon1, lat1, lon2, lat2):\n",
    "    # convert decimal degrees to radians\n",
    "    lon1, lat1, lon2, lat2 = map(radians, [lon1, lat1, lon2, lat2])\n",
    "\n",
    "    # haversine formula\n",
    "    dlon = lon2 - lon1\n",
    "    dlat = lat2 - lat1\n",
    "    a = sin(dlat/2)**2 + cos(lat1) * cos(lat2) * sin(dlon/2)**2\n",
    "    c = 2 * asin(sqrt(a))\n",
    "    #r = 6371 # radius of earth in kilometers\n",
    "    r = 3956 # radius earth use for miles\n",
    "    return c * r\n",
    "\n",
    "stationList = [(38.920669,-77.043680,31113),\n",
    "               (38.922925,-77.042581,31104),\n",
    "              (38.924088,-77.040787,31296),\n",
    "             (38.918808,-77.041571,31114),\n",
    "               (38.917761,-77.040620,31116),\n",
    "               (38.915400,-77.044600,31110)]\n",
    "\n",
    "for start in stationList:\n",
    "    print(\"Start \",start[2])\n",
    "    for end in stationList:\n",
    "        print(\"End \", end[2], \" Distance \",haversine(start[1], start[0], end[1], end[0]))"
   ]
  },
  {
   "cell_type": "code",
   "execution_count": null,
   "metadata": {},
   "outputs": [],
   "source": []
  }
 ]
}